{
 "cells": [
  {
   "cell_type": "markdown",
   "metadata": {},
   "source": [
    "Import all needed libraries"
   ]
  },
  {
   "cell_type": "code",
   "execution_count": 1,
   "metadata": {},
   "outputs": [],
   "source": [
    "import re\n",
    "import nltk\n",
    "import ir_datasets\n",
    "import numpy as np\n",
    "import math\n",
    "import matplotlib.pyplot as plt"
   ]
  },
  {
   "cell_type": "markdown",
   "metadata": {},
   "source": [
    "Tokenizing function:\n",
    "\n",
    "This function gets a list of texts and tokenize each text"
   ]
  },
  {
   "cell_type": "code",
   "execution_count": 2,
   "metadata": {},
   "outputs": [],
   "source": [
    "def tokenize(list_of_contexts):\n",
    "    all_tokens = []         # a list to save all of tokens of all documents\n",
    "    for i, doc in enumerate(list_of_contexts):\n",
    "        lower_doc = doc.lower()              # make all of contexts lower case\n",
    "        list_of_contexts[i] = lower_doc          \n",
    "        tokens = re.findall(r'\\d+(?:,\\d+)*(?:\\.\\d+)?|\\w+', list_of_contexts[i])   # tokenize the text with regex\n",
    "        all_tokens.append(tokens)\n",
    "\n",
    "    return all_tokens       # return a 2D array with contains lists of tokens of each document"
   ]
  },
  {
   "cell_type": "markdown",
   "metadata": {},
   "source": [
    "Filtering tokens:\n",
    "\n",
    "This function is for preprocessing tokens like removing stopwords and stemming"
   ]
  },
  {
   "cell_type": "code",
   "execution_count": 3,
   "metadata": {},
   "outputs": [
    {
     "name": "stderr",
     "output_type": "stream",
     "text": [
      "[nltk_data] Downloading package stopwords to\n",
      "[nltk_data]     C:\\Users\\ASC\\AppData\\Roaming\\nltk_data...\n",
      "[nltk_data]   Package stopwords is already up-to-date!\n",
      "[nltk_data] Downloading package punkt to\n",
      "[nltk_data]     C:\\Users\\ASC\\AppData\\Roaming\\nltk_data...\n",
      "[nltk_data]   Package punkt is already up-to-date!\n"
     ]
    }
   ],
   "source": [
    "def token_filtering(all_tokens):\n",
    "    for i, doc in enumerate(all_tokens):\n",
    "        new_tokens = []\n",
    "        for token in doc:     # delete all of stopwords and single character tokens except numbers from token list\n",
    "            if (len(token) < 2 and token.isalpha()) or (token in stop_words):          \n",
    "                continue\n",
    "            else:\n",
    "                new_tokens.append(token)\n",
    "        stemmer = nltk.stem.PorterStemmer()                      # stemming each token\n",
    "        new_tokens = [stemmer.stem(token) for token in new_tokens]\n",
    "        all_tokens[i] = new_tokens\n",
    "\n",
    "    return all_tokens\n",
    "\n",
    "# Download the stopwords\n",
    "nltk.download('stopwords')\n",
    "nltk.download('punkt')\n",
    "# Get the list of stopwords for English\n",
    "stop_words = set(nltk.corpus.stopwords.words('english'))\n",
    "\n",
    "    "
   ]
  },
  {
   "cell_type": "markdown",
   "metadata": {},
   "source": [
    "Create a mapping list for terms to termIDs. each unique term is maped to a unique integer"
   ]
  },
  {
   "cell_type": "code",
   "execution_count": 4,
   "metadata": {},
   "outputs": [],
   "source": [
    "def build_term_id(all_tokens):\n",
    "    termID = []\n",
    "    for doc in all_tokens:               # create a list of all unique terms in collection\n",
    "        for term in doc:\n",
    "            if term not in termID:    # if the term is not already in the list\n",
    "                termID.append(term)\n",
    "\n",
    "    return termID"
   ]
  },
  {
   "cell_type": "markdown",
   "metadata": {},
   "source": [
    "Create a 2D array(term-document matrix) that entry i and j is the TF of term i in document j"
   ]
  },
  {
   "cell_type": "code",
   "execution_count": 5,
   "metadata": {},
   "outputs": [],
   "source": [
    "def calculate_TF(tf, option, max_tf_d, max_tf_t):\n",
    "    if option==1:   # binary model {0, 1}\n",
    "        if tf>0:    \n",
    "            return 1\n",
    "        return 0\n",
    "    elif option==2:    # n: TF_t,d\n",
    "        return tf\n",
    "    elif option==3:    # l: 1+log(TF)\n",
    "        if tf>0:\n",
    "            return 1 + math.log2(tf)\n",
    "        return 0.1\n",
    "    elif option==4:     # m: ntf\n",
    "        return 0.4 + 0.6*((tf)/(max_tf_d))\n",
    "    else:               # a\n",
    "        return 0.5 + 0.5*((tf)/(max_tf_t))"
   ]
  },
  {
   "cell_type": "code",
   "execution_count": 6,
   "metadata": {},
   "outputs": [],
   "source": [
    "def build_term_document_matrix(all_tokens, termID, option):\n",
    "    term_doc = np.zeros((len(termID), len(all_tokens)))  # an empy matrix rows=len(terms) and columns=len(collection)\n",
    "    # build term-doc matrix\n",
    "    for i, doc in enumerate(all_tokens):\n",
    "        for term in doc:\n",
    "            try:   # if term is happened in the termID map\n",
    "                term_ind = termID.index(term)     # row\n",
    "                doc_ind = i                       # column\n",
    "                term_doc[term_ind][doc_ind] += 1  # increase the frequency of the term in the document\n",
    "            except:\n",
    "                continue\n",
    "    \n",
    "    max_tf_row = []\n",
    "    max_tf_col = []\n",
    "    for i in range(len(term_doc)):             # find TF_max in each document and TF_max for each term\n",
    "        max_tf_row.append(max(term_doc[i]))\n",
    "    for j in range(len(term_doc[0])):\n",
    "        col = []\n",
    "        for i in range(len(term_doc)):\n",
    "            col.append(term_doc[i][j])\n",
    "        max_tf_col.append(max(col))\n",
    "\n",
    "    for i in range(len(term_doc)):            # update term-doc weights based on given option\n",
    "        for j in range(len(term_doc[i])):\n",
    "            max_tf_t = max_tf_row[i]\n",
    "            max_tf_d = max_tf_col[j]\n",
    "            tf = term_doc[i][j]\n",
    "            term_doc[i][j] = calculate_TF(tf, option, max_tf_d, max_tf_t)\n",
    "        \n",
    "    return term_doc\n"
   ]
  },
  {
   "cell_type": "markdown",
   "metadata": {},
   "source": [
    "create an IDF list that stores document frequency of each term"
   ]
  },
  {
   "cell_type": "code",
   "execution_count": 7,
   "metadata": {},
   "outputs": [],
   "source": [
    "# calculate idf based on given algorithm\n",
    "def calculate_IDF(N, DF_t, option):\n",
    "    if option == 1:  # n\n",
    "        return 1\n",
    "    elif option==2:   # t\n",
    "        return math.log2(N/DF_t)\n",
    "    else:   # p\n",
    "        return max(0, math.log2((N - DF_t)/(DF_t)))\n",
    "    "
   ]
  },
  {
   "cell_type": "code",
   "execution_count": 8,
   "metadata": {},
   "outputs": [],
   "source": [
    "def build_idf(all_tokens, term_ID, option):\n",
    "    idf = np.zeros(len(term_ID))\n",
    "\n",
    "    for i, term in enumerate(term_ID):\n",
    "        count = 0\n",
    "        for doc in all_tokens:     # if term happened in document i, increase doc frequency of it\n",
    "            if term in doc:\n",
    "                count += 1\n",
    "\n",
    "        idf_t = calculate_IDF(len(all_tokens), count, option)   # calculate idf_t and put it in list of idfs\n",
    "        idf[i] = idf_t\n",
    "\n",
    "    return idf"
   ]
  },
  {
   "cell_type": "markdown",
   "metadata": {},
   "source": [
    "Vector-Space Model"
   ]
  },
  {
   "cell_type": "code",
   "execution_count": 9,
   "metadata": {},
   "outputs": [],
   "source": [
    "# calculate w(t, d) = tf * idf / norm\n",
    "\n",
    "def calculate_smart_weighting(weight_matrix):\n",
    "    norm_d = []    # calculate c in each doc\n",
    "    for j in range(weight_matrix.shape[1]):\n",
    "        weights_in_doc = []\n",
    "        for i in range(weight_matrix.shape[0]):\n",
    "            weights_in_doc.append(weight_matrix[i][j])\n",
    "        \n",
    "        sum_e = 0\n",
    "        for w in weights_in_doc:\n",
    "            sum_e += w**2\n",
    "        c = 1/(math.sqrt(sum_e))\n",
    "        norm_d.append(c)\n",
    "\n",
    "    for i in range(weight_matrix.shape[0]):\n",
    "        for j in range(weight_matrix.shape[1]):\n",
    "            weight_matrix[i][j] /= norm_d[j]\n",
    "\n",
    "    return weight_matrix"
   ]
  },
  {
   "cell_type": "code",
   "execution_count": 10,
   "metadata": {},
   "outputs": [],
   "source": [
    "def build_weight_matrix(term_doc_matrix, idf, option):\n",
    "    m = term_doc_matrix.shape[0]\n",
    "    n = term_doc_matrix.shape[1]\n",
    "    weight_matrix = np.zeros((m, n)) \n",
    "    for i in range(m):      # calculating weight of each term in each document using w(t, d) = tf * idf\n",
    "        for j in range(n):\n",
    "            weight_matrix[i][j] = term_doc_matrix[i][j] * idf[i]\n",
    "    \n",
    "    if option==2:   # choose to calculate smart weight \n",
    "        weight_matrix = calculate_smart_weighting(weight_matrix)\n",
    "            \n",
    "    return weight_matrix"
   ]
  },
  {
   "cell_type": "code",
   "execution_count": 36,
   "metadata": {},
   "outputs": [],
   "source": [
    "def vector_space_model(query_vector, weight_matrix):\n",
    "    \n",
    "    number_of_docs = weight_matrix.shape[1]       \n",
    "    number_of_terms = weight_matrix.shape[0]\n",
    "\n",
    "    norm_q = 0\n",
    "    for i in range(number_of_terms):\n",
    "        norm_q += query_vector[i][0]**2\n",
    "    norm_q = math.sqrt(norm_q)\n",
    "\n",
    "    doc_scores = []\n",
    "    for j in range(number_of_docs):        # calculate similarity of query vector with each document\n",
    "        score_doc_j = 0\n",
    "        norm_d = 0\n",
    "        for i in range(number_of_terms):\n",
    "            norm_d += weight_matrix[i][j]**2\n",
    "        norm_d = math.sqrt(norm_d)\n",
    "        for i in range(number_of_terms):\n",
    "            score_doc_j += (weight_matrix[i][j]/norm_d) * (query_vector[i][0]/norm_q)    # score(d, q) = v(d).v(q)\n",
    "        doc_scores.append((score_doc_j, j+1))   # save score of each document, j+1 is the doc_id of j'th document\n",
    "    \n",
    "    return doc_scores\n"
   ]
  },
  {
   "cell_type": "markdown",
   "metadata": {},
   "source": [
    "Probabilistic Model(Okapi BM25)"
   ]
  },
  {
   "cell_type": "code",
   "execution_count": 12,
   "metadata": {},
   "outputs": [],
   "source": [
    "def probabilistic_model(query_tokens, query_vector, idf, term_doc_matrix, all_tokens, term_ID, k1, k3, b):\n",
    "    L_ave = 0\n",
    "    document_length = []           # find length of all documents in collection\n",
    "    for doc in all_tokens:\n",
    "        document_length.append(len(doc))\n",
    "        L_ave += len(doc)\n",
    "    L_ave /= len(all_tokens)         # average doc length in whole collection\n",
    "\n",
    "    query_length = len(query_tokens)\n",
    "    number_of_docs = term_doc_matrix.shape[1]\n",
    "    number_of_terms = term_doc_matrix.shape[0]\n",
    "    doc_RSVs = []\n",
    "    for j in range(number_of_docs):\n",
    "        RSV_j = 0\n",
    "        for i in range(number_of_terms):\n",
    "            if term_ID[i] in query_tokens:      # for each query term, calculate similar weighting\n",
    "                tf_td = term_doc_matrix[i][j]\n",
    "                tf_tq = query_vector[i][0]     # frequecny of term i in query \n",
    "                Ld = document_length[j]\n",
    "                if query_length > 30:       # for long queries\n",
    "                    RSV_j += idf[i] * ( ((k1+1)*tf_td) / (k1*((1-b) + b*(Ld/L_ave)) + tf_td)) * (((k3+1)*tf_tq) / (k3+tf_tq))\n",
    "                else:\n",
    "                    RSV_j += idf[i] * ( ((k1+1)*tf_td) / (k1*((1-b) + b*(Ld/L_ave)) + tf_td))\n",
    "        \n",
    "        doc_RSVs.append((RSV_j, j+1))        # add the score of each document to score list\n",
    "\n",
    "    return doc_RSVs\n"
   ]
  },
  {
   "cell_type": "markdown",
   "metadata": {},
   "source": [
    "Language Model"
   ]
  },
  {
   "cell_type": "markdown",
   "metadata": {},
   "source": [
    "different smoothing functions"
   ]
  },
  {
   "cell_type": "code",
   "execution_count": 13,
   "metadata": {},
   "outputs": [],
   "source": [
    "def jelinek_mercer_smoothing(landa, term_freq_in_doc_j, Ld, term_freq_in_collection, Lc):\n",
    "    return ((landa * (term_freq_in_doc_j/Ld)) + ((1-landa) * (term_freq_in_collection/Lc)))"
   ]
  },
  {
   "cell_type": "code",
   "execution_count": 14,
   "metadata": {},
   "outputs": [],
   "source": [
    "def dirichlet_smoothing(term_freq_in_doc_j, term_freq_in_collection, Lc, Ld, alpha):\n",
    "    return (term_freq_in_doc_j + (alpha * (term_freq_in_collection/Lc))) / (Ld + alpha)"
   ]
  },
  {
   "cell_type": "code",
   "execution_count": 15,
   "metadata": {},
   "outputs": [],
   "source": [
    "def language_model(query_tokens, term_ID, term_doc_matrix, all_tokens, landa, alpha, smoothing_option):\n",
    "    Lc = 0\n",
    "    document_length = []\n",
    "    for doc in all_tokens:\n",
    "        document_length.append(len(doc))\n",
    "        Lc += len(doc)                        # total number of terms in collection\n",
    "\n",
    "    number_of_docs = term_doc_matrix.shape[1]\n",
    "    number_of_terms = term_doc_matrix.shape[0]\n",
    "    doc_scores = []\n",
    "    for j in range(number_of_docs):\n",
    "        score_j = 1\n",
    "        for i in range(number_of_terms):\n",
    "            if term_ID[i] in query_tokens:        # for each query term calculate probability\n",
    "                term_freq_in_doc_j = term_doc_matrix[i][j]\n",
    "                Ld = document_length[j]\n",
    "                term_freq_in_collection = 0\n",
    "                for l in range(len(term_doc_matrix[i])):\n",
    "                    term_freq_in_collection += term_doc_matrix[i][l]\n",
    "                if smoothing_option == 1:\n",
    "                    score_j *= jelinek_mercer_smoothing(landa, term_freq_in_doc_j, Ld, term_freq_in_collection, Lc)\n",
    "                else:\n",
    "                    score_j *= dirichlet_smoothing(term_freq_in_doc_j, term_freq_in_collection, Lc, Ld, alpha)\n",
    "\n",
    "        doc_scores.append((score_j, j+1))\n",
    "\n",
    "    return doc_scores"
   ]
  },
  {
   "cell_type": "markdown",
   "metadata": {},
   "source": [
    "Heap sort for document ranking"
   ]
  },
  {
   "cell_type": "code",
   "execution_count": 16,
   "metadata": {},
   "outputs": [],
   "source": [
    "def heap_sort(scores, k):\n",
    "    sorted_scores = scores[:k]\n",
    "    scores = scores[k:]\n",
    "    while scores:\n",
    "        sorted_scores = sorted(sorted_scores, reverse=True)\n",
    "        if scores[0][0] > sorted_scores[k-1][0]: # if first element of scores is greather than min element of heap, replce it \n",
    "            sorted_scores[k-1] = scores[0]\n",
    "        scores.pop(0)\n",
    "\n",
    "    return sorted_scores"
   ]
  },
  {
   "cell_type": "markdown",
   "metadata": {},
   "source": [
    "Rank the documents based on scores"
   ]
  },
  {
   "cell_type": "code",
   "execution_count": 26,
   "metadata": {},
   "outputs": [],
   "source": [
    "def score_function(scores, k):\n",
    "    sorted_scores = heap_sort(scores, k)\n",
    "    retrieved_docs = []\n",
    "    for s in sorted_scores:\n",
    "        if s[0] > 0:\n",
    "            retrieved_docs.append(s)\n",
    "   \n",
    "    return retrieved_docs"
   ]
  },
  {
   "cell_type": "markdown",
   "metadata": {},
   "source": [
    "11-point evaluation"
   ]
  },
  {
   "cell_type": "code",
   "execution_count": 21,
   "metadata": {},
   "outputs": [],
   "source": [
    "def evaluation_11_points(retrieved, relevats):\n",
    "\n",
    "    number_of_all_relevant_docs = len(relevats)\n",
    "    precisions = []        # save the precision of i'th doc\n",
    "    recalls = []           # save the recall of i'th doc\n",
    "    number_of_docs_seen = 1    # docs that we have seen so far\n",
    "    number_of_relevents_seen = 0      # number of relevant docs that we have seen so far\n",
    "    for doc in retrieved:\n",
    "        if doc in relevats:\n",
    "            number_of_relevents_seen += 1\n",
    "        precision = number_of_relevents_seen / number_of_docs_seen\n",
    "        recall    = number_of_relevents_seen / number_of_all_relevant_docs\n",
    "        precisions.append(precision)\n",
    "        recalls.append(recall)\n",
    "        number_of_docs_seen += 1\n",
    "\n",
    "    points_11 = np.zeros(11) \n",
    "    x_points = np.zeros(11)\n",
    "    recall = 0.0\n",
    "    avg = 0\n",
    "    for j in range(11):                        # find precision at 11 points of recall\n",
    "        for i, r in enumerate(recalls):\n",
    "            if r >= recall:\n",
    "                pr = max(precisions[i:])\n",
    "                points_11[j] = pr\n",
    "                break\n",
    "\n",
    "        avg += pr\n",
    "        x_points[j] = recall\n",
    "        recall += 0.1\n",
    "        recall = np.round(recall, 1)\n",
    "    avg /= 11                            # compute average precision\n",
    "\n",
    "    return avg, points_11, x_points\n",
    "\n",
    "\n"
   ]
  },
  {
   "cell_type": "markdown",
   "metadata": {},
   "source": [
    "Main code"
   ]
  },
  {
   "cell_type": "code",
   "execution_count": 18,
   "metadata": {},
   "outputs": [],
   "source": [
    "def preproccessing(dataset, filtering_option=1):\n",
    "    # Load the cranfield dataset\n",
    "    \n",
    "\n",
    "    list_of_contexts = []      # all of file's contexts\n",
    "    # Iterate over the documents in the dataset and read them and put them in a list\n",
    "    for doc in dataset.docs_iter():\n",
    "        doc_title = doc.title\n",
    "        text = doc.text\n",
    "        list_of_contexts.append(doc_title+\" \"+text)\n",
    "\n",
    "    all_tokens = tokenize(list_of_contexts)          # list of all tokens in the dataset\n",
    "    if filtering_option:   # give a choice to user that want to remove stopwords and stemming or not\n",
    "        all_tokens = token_filtering(all_tokens)         # filtering, removing stopwords, and stemming tokens\n",
    "\n",
    "    return all_tokens"
   ]
  },
  {
   "cell_type": "code",
   "execution_count": 19,
   "metadata": {},
   "outputs": [],
   "source": [
    "def data_proccessing(all_tokens, tf_option=2, idf_option=2):\n",
    "    # build a list that maps each unique term to a unique integer that is an identifier for that term\n",
    "    term_ID = build_term_id(all_tokens)\n",
    "    # build term-document matrix\n",
    "    term_doc_matrix = build_term_document_matrix(all_tokens, term_ID, tf_option)\n",
    "    idf = build_idf(all_tokens, term_ID, idf_option)\n",
    "\n",
    "    return term_ID, term_doc_matrix, idf"
   ]
  },
  {
   "cell_type": "code",
   "execution_count": 41,
   "metadata": {},
   "outputs": [],
   "source": [
    "def test(model, query, k, term_ID, term_doc_matrix, idf, all_tokens, weight_matrix=[], tf_option=2, filtering_option=1, k1=1.2, k3=1.2, b=0.75, landa=0.5, alpha=0.5, smoothing_option=1):\n",
    "    # consider query as a document and proccess it like documents\n",
    "    query_context = [query]\n",
    "    query_tokens = tokenize(query_context)\n",
    "    if filtering_option:\n",
    "        query_tokens = token_filtering(query_tokens)\n",
    "\n",
    "    query_vector = build_term_document_matrix(query_tokens, term_ID, tf_option)\n",
    "\n",
    "    if model==1:       # vector-space model\n",
    "        doc_scores = vector_space_model(query_vector, weight_matrix)\n",
    "    elif model==2:     # probabilistic model\n",
    "        doc_scores = probabilistic_model(query_tokens[0], query_vector, idf, term_doc_matrix, all_tokens, term_ID, k1, k3, b)\n",
    "    elif model==3:\n",
    "        doc_scores = language_model(query_tokens[0], term_ID, term_doc_matrix, all_tokens, landa, alpha, smoothing_option)\n",
    "\n",
    "    retrieved = score_function(doc_scores, k)\n",
    "    retrieved_ids = [s[1] for s in retrieved]\n",
    "    return retrieved, retrieved_ids\n"
   ]
  },
  {
   "cell_type": "code",
   "execution_count": 22,
   "metadata": {},
   "outputs": [],
   "source": [
    "def eval_pr_re(retrieved, relevants):\n",
    "    count = 0\n",
    "    for r in retrieved:\n",
    "        if r in relevants:\n",
    "            count += 1\n",
    "    return count / len(relevants)"
   ]
  },
  {
   "cell_type": "code",
   "execution_count": 30,
   "metadata": {},
   "outputs": [],
   "source": [
    "def MAP(retrieved, relevants):\n",
    "    count = 0\n",
    "    for r in retrieved:\n",
    "        if r in relevants:\n",
    "            count += 1\n",
    "    \n",
    "    return count/len(retrieved)"
   ]
  },
  {
   "cell_type": "markdown",
   "metadata": {},
   "source": [
    "Running main"
   ]
  },
  {
   "cell_type": "code",
   "execution_count": 47,
   "metadata": {},
   "outputs": [],
   "source": [
    "dataset = ir_datasets.load(\"cranfield\")\n",
    "all_tokens = preproccessing(dataset, filtering_option=0)\n",
    "term_ID, term_doc_matrix, idf = data_proccessing(all_tokens, tf_option=2, idf_option=3)\n",
    "weight_matrix = build_weight_matrix(term_doc_matrix, idf, 1)"
   ]
  },
  {
   "cell_type": "markdown",
   "metadata": {},
   "source": [
    "get and preproccess queries and query relevancies"
   ]
  },
  {
   "cell_type": "code",
   "execution_count": 48,
   "metadata": {},
   "outputs": [],
   "source": [
    "def query_proccessing(dataset):\n",
    "    queries = dataset.queries_iter()\n",
    "    all_queries = []\n",
    "    for q in queries:\n",
    "        all_queries.append((q.query_id, q.text))     # save all queries and query ids in a list\n",
    "\n",
    "    all_qrels = dataset.qrels_iter()\n",
    "    qrels = []\n",
    "    for q in all_qrels:\n",
    "        qrels.append(q)                # save all relevancies of queries in a list\n",
    "    all_relevancies = {}            # create a dictionary which key is the query id and its value is it's relevant documents \n",
    "    qrel_id = qrels[0].query_id\n",
    "    all_relevancies[qrel_id]=[]\n",
    "    for qrel in qrels:\n",
    "        if qrel.relevance > 0:     # add document id of relevant documents to value of document id in the dictionary\n",
    "            if qrel.query_id == qrel_id:\n",
    "                all_relevancies[qrel_id].append(int(qrel.doc_id))\n",
    "            else:\n",
    "                qrel_id = qrel.query_id\n",
    "                all_relevancies[qrel_id]= [int(qrel.doc_id)]\n",
    "\n",
    "    return all_queries, all_relevancies\n"
   ]
  },
  {
   "cell_type": "markdown",
   "metadata": {},
   "source": [
    "Test each model with some given queries and evaluate using 11-point"
   ]
  },
  {
   "cell_type": "code",
   "execution_count": 49,
   "metadata": {},
   "outputs": [
    {
     "name": "stderr",
     "output_type": "stream",
     "text": [
      "C:\\Users\\ASC\\AppData\\Local\\Temp\\ipykernel_17876\\3314775356.py:19: RuntimeWarning: invalid value encountered in double_scalars\n",
      "  score_doc_j += (weight_matrix[i][j]/norm_d) * (query_vector[i][0]/norm_q)    # score(d, q) = v(d).v(q)\n",
      "C:\\Users\\ASC\\AppData\\Local\\Temp\\ipykernel_17876\\3923962413.py:2: RuntimeWarning: invalid value encountered in double_scalars\n",
      "  return ((landa * (term_freq_in_doc_j/Ld)) + ((1-landa) * (term_freq_in_collection/Lc)))\n"
     ]
    },
    {
     "name": "stdout",
     "output_type": "stream",
     "text": [
      "red: vector-space model\n",
      "green: probabilistic model\n",
      "blue: language model\n"
     ]
    },
    {
     "data": {
      "image/png": "[encoded data removed]",
      "text/plain": [
       "<Figure size 432x288 with 1 Axes>"
      ]
     },
     "metadata": {
      "needs_background": "light"
     },
     "output_type": "display_data"
    },
    {
     "name": "stderr",
     "output_type": "stream",
     "text": [
      "C:\\Users\\ASC\\AppData\\Local\\Temp\\ipykernel_17876\\3314775356.py:19: RuntimeWarning: invalid value encountered in double_scalars\n",
      "  score_doc_j += (weight_matrix[i][j]/norm_d) * (query_vector[i][0]/norm_q)    # score(d, q) = v(d).v(q)\n",
      "C:\\Users\\ASC\\AppData\\Local\\Temp\\ipykernel_17876\\3923962413.py:2: RuntimeWarning: invalid value encountered in double_scalars\n",
      "  return ((landa * (term_freq_in_doc_j/Ld)) + ((1-landa) * (term_freq_in_collection/Lc)))\n"
     ]
    },
    {
     "name": "stdout",
     "output_type": "stream",
     "text": [
      "red: vector-space model\n",
      "green: probabilistic model\n",
      "blue: language model\n"
     ]
    },
    {
     "data": {
      "image/png": "[encoded data removed]",
      "text/plain": [
       "<Figure size 432x288 with 1 Axes>"
      ]
     },
     "metadata": {
      "needs_background": "light"
     },
     "output_type": "display_data"
    }
   ],
   "source": [
    "all_queries, all_relevancies = query_proccessing(dataset)\n",
    "query1 = all_queries[0]\n",
    "k = 20         # number of top k documents that should be retrieved\n",
    "retrieved1, retrieved1_ids = test(model=1, query=query1[1], k=k, term_ID=term_ID, term_doc_matrix=term_doc_matrix,\n",
    "            idf=idf, all_tokens=all_tokens, weight_matrix=weight_matrix, tf_option=2, filtering_option=0)\n",
    "avg1, y1, x1 = evaluation_11_points(retrieved1_ids, all_relevancies[query1[0]])\n",
    "plt.plot(x1, y1, 'r')\n",
    "retrieved2, retrieved2_ids = test(model=2, query=query1[1], k=k, term_ID=term_ID, term_doc_matrix=term_doc_matrix, idf=idf, all_tokens=all_tokens,\n",
    "                tf_option=2, filtering_option=0, k1=1.2, k3=1.2, b=0.75)\n",
    "avg2, y2, x2 =evaluation_11_points(retrieved2_ids, all_relevancies[query1[0]])\n",
    "plt.plot(x2, y2, 'g')\n",
    "retrieved3, retrieved3_ids = test(model=3, query=query1[1], k=k, term_ID=term_ID, term_doc_matrix=term_doc_matrix, idf=idf, all_tokens=all_tokens, \n",
    "                tf_option=2, filtering_option=0, landa=0.5, alpha=0.1, smoothing_option=1)\n",
    "avg3, y3, x3 =evaluation_11_points(retrieved3_ids, all_relevancies[query1[0]])\n",
    "plt.plot(x3, y3, 'b')\n",
    "print(\"red: vector-space model\")\n",
    "print(\"green: probabilistic model\")\n",
    "print(\"blue: language model\")\n",
    "plt.title(\"11-point interpolated average precision for query 1\")\n",
    "plt.xlabel(\"recall\")\n",
    "plt.ylabel(\"Precision\")\n",
    "plt.show()\n",
    "################################################################\n",
    "query2 = all_queries[1]\n",
    "k = 20         # number of top k documents that should be retrieved\n",
    "retrieved1, retrieved1_ids = test(model=1, query=query2[1], k=k, term_ID=term_ID, term_doc_matrix=term_doc_matrix, idf=idf, all_tokens=all_tokens,\n",
    "                weight_matrix=weight_matrix, tf_option=2, filtering_option=0)\n",
    "avg1, y1, x1 = evaluation_11_points(retrieved1_ids, all_relevancies[query2[0]])\n",
    "plt.plot(x1, y1, 'r')\n",
    "retrieved2, retrieved2_ids = test(model=2, query=query2[1], k=k, term_ID=term_ID, term_doc_matrix=term_doc_matrix, idf=idf, all_tokens=all_tokens,\n",
    "                tf_option=2, filtering_option=0, k1=1.2, k3=1.2, b=0.75)\n",
    "avg2, y2, x2 =evaluation_11_points(retrieved2_ids, all_relevancies[query2[0]])\n",
    "plt.plot(x2, y2, 'g')\n",
    "retrieved3, retrieved3_ids = test(model=3, query=query2[1], k=k, term_ID=term_ID, term_doc_matrix=term_doc_matrix, idf=idf, all_tokens=all_tokens, \n",
    "                tf_option=2, filtering_option=0, landa=0.5, alpha=0.1, smoothing_option=1)\n",
    "avg3, y3, x3 =evaluation_11_points(retrieved3_ids, all_relevancies[query2[0]])\n",
    "plt.plot(x3, y3, 'b')\n",
    "print(\"red: vector-space model\")\n",
    "print(\"green: probabilistic model\")\n",
    "print(\"blue: language model\")\n",
    "plt.title(\"11-point interpolated average precision for query 2\")\n",
    "plt.xlabel(\"recall\")\n",
    "plt.ylabel(\"Precision\")\n",
    "plt.show()\n"
   ]
  },
  {
   "cell_type": "markdown",
   "metadata": {},
   "source": [
    "Evaluate each model: a different approach"
   ]
  },
  {
   "cell_type": "code",
   "execution_count": 50,
   "metadata": {},
   "outputs": [
    {
     "name": "stderr",
     "output_type": "stream",
     "text": [
      "C:\\Users\\ASC\\AppData\\Local\\Temp\\ipykernel_17876\\3314775356.py:19: RuntimeWarning: invalid value encountered in double_scalars\n",
      "  score_doc_j += (weight_matrix[i][j]/norm_d) * (query_vector[i][0]/norm_q)    # score(d, q) = v(d).v(q)\n",
      "C:\\Users\\ASC\\AppData\\Local\\Temp\\ipykernel_17876\\3923962413.py:2: RuntimeWarning: invalid value encountered in double_scalars\n",
      "  return ((landa * (term_freq_in_doc_j/Ld)) + ((1-landa) * (term_freq_in_collection/Lc)))\n"
     ]
    },
    {
     "data": {
      "image/png": "[encoded data removed]",
      "text/plain": [
       "<Figure size 432x288 with 1 Axes>"
      ]
     },
     "metadata": {
      "needs_background": "light"
     },
     "output_type": "display_data"
    }
   ],
   "source": [
    "all_queries, all_relevancies = query_proccessing(dataset)\n",
    "xpoints = np.zeros(30)\n",
    "ypoints1 = np.zeros(30)\n",
    "ypoints2 = np.zeros(30)\n",
    "ypoints3 = np.zeros(30)\n",
    "for i, qq in enumerate(all_queries[:30]):\n",
    "    xpoints[i] = i\n",
    "    k = 100         # number of top k documents that should be retrieved\n",
    "\n",
    "    retrieved1, retrieved1_ids = test(model=1, query=qq[1], k=k, term_ID=term_ID, term_doc_matrix=term_doc_matrix, idf=idf, all_tokens=all_tokens,\n",
    "                    weight_matrix=weight_matrix,tf_option=2, filtering_option=0)\n",
    "    pr1 = eval_pr_re(retrieved1_ids, all_relevancies[qq[0]])\n",
    "    ypoints1[i] = pr1\n",
    "\n",
    "    retrieved2, retrieved2_ids = test(model=2, query=qq[1], k=k, term_ID=term_ID, term_doc_matrix=term_doc_matrix, idf=idf, all_tokens=all_tokens,\n",
    "                    tf_option=2, filtering_option=0, k1=1.2, k3=1.2, b=0.75)\n",
    "    pr2 = eval_pr_re(retrieved2_ids, all_relevancies[qq[0]])\n",
    "    ypoints2[i] = pr2\n",
    "\n",
    "    retrieved3, retrieved3_ids = test(model=3, query=qq[1], k=k, term_ID=term_ID, term_doc_matrix=term_doc_matrix, idf=idf, all_tokens=all_tokens, \n",
    "                    tf_option=2, filtering_option=0, landa=0.5, alpha=0.1, smoothing_option=1)\n",
    "    pr3 = eval_pr_re(retrieved3_ids, all_relevancies[qq[0]])\n",
    "    ypoints3[i] = pr3\n",
    "\n",
    "plt.plot(xpoints, ypoints1, 'r')\n",
    "plt.plot(xpoints, ypoints2, 'g')\n",
    "plt.plot(xpoints, ypoints3, 'b')\n",
    "plt.show()\n"
   ]
  },
  {
   "cell_type": "markdown",
   "metadata": {},
   "source": [
    "Expected output"
   ]
  },
  {
   "cell_type": "code",
   "execution_count": 58,
   "metadata": {},
   "outputs": [
    {
     "name": "stderr",
     "output_type": "stream",
     "text": [
      "C:\\Users\\ASC\\AppData\\Local\\Temp\\ipykernel_17876\\3314775356.py:19: RuntimeWarning: invalid value encountered in double_scalars\n",
      "  score_doc_j += (weight_matrix[i][j]/norm_d) * (query_vector[i][0]/norm_q)    # score(d, q) = v(d).v(q)\n",
      "C:\\Users\\ASC\\AppData\\Local\\Temp\\ipykernel_17876\\3923962413.py:2: RuntimeWarning: invalid value encountered in double_scalars\n",
      "  return ((landa * (term_freq_in_doc_j/Ld)) + ((1-landa) * (term_freq_in_collection/Lc)))\n"
     ]
    },
    {
     "name": "stdout",
     "output_type": "stream",
     "text": [
      "retrieved documents (vector-space): \n",
      "(ID: 13, Score: 0.2463) (ID: 184, Score: 0.234) (ID: 12, Score: 0.1989) (ID: 51, Score: 0.172) (ID: 875, Score: 0.1639) (ID: 746, Score: 0.1413) (ID: 792, Score: 0.1412) (ID: 1268, Score: 0.1404) (ID: 435, Score: 0.1395) (ID: 327, Score: 0.1357) \n",
      "retrieved documents (BM25): \n",
      "(ID: 184, Score: 32.9163) (ID: 486, Score: 30.5892) (ID: 13, Score: 29.1745) (ID: 1268, Score: 25.045) (ID: 12, Score: 24.9756) (ID: 51, Score: 21.1622) (ID: 878, Score: 19.0696) (ID: 875, Score: 18.8628) (ID: 746, Score: 17.8241) (ID: 14, Score: 17.5957) \n",
      "retrieved documents (LM): \n",
      "(ID: 184, Score: 1.3931) (ID: 486, Score: 0.2207) (ID: 1268, Score: 0.1348) (ID: 13, Score: 0.1008) (ID: 12, Score: 0.0242) (ID: 51, Score: 0.0073) (ID: 878, Score: 0.0008) (ID: 14, Score: 0.0008) (ID: 792, Score: 0.0006) (ID: 1361, Score: 0.0005) "
     ]
    }
   ],
   "source": [
    "query1 = all_queries[0]\n",
    "k = 10         # number of top k documents that should be retrieved\n",
    "retrieved1, retrieved1_ids = test(model=1, query=query1[1], k=k, term_ID=term_ID, term_doc_matrix=term_doc_matrix,\n",
    "            idf=idf, all_tokens=all_tokens, weight_matrix=weight_matrix, tf_option=2, filtering_option=0)\n",
    "\n",
    "retrieved2, retrieved2_ids = test(model=2, query=query1[1], k=k, term_ID=term_ID, term_doc_matrix=term_doc_matrix, idf=idf, all_tokens=all_tokens,\n",
    "                tf_option=2, filtering_option=0, k1=1.2, k3=1.2, b=0.75)\n",
    "\n",
    "retrieved3, retrieved3_ids = test(model=3, query=query1[1], k=k, term_ID=term_ID, term_doc_matrix=term_doc_matrix, idf=idf, all_tokens=all_tokens, \n",
    "                tf_option=2, filtering_option=0, landa=0.5, alpha=0.1, smoothing_option=1)\n",
    "\n",
    "print(\"retrieved documents (vector-space): \")\n",
    "for d in retrieved1:\n",
    "    print(f\"(ID: {d[1]}, Score: {np.round(d[0], 4)})\", end=\" \")\n",
    "print()\n",
    "print(\"retrieved documents (BM25): \")\n",
    "for d in retrieved2:\n",
    "    print(f\"(ID: {d[1]}, Score: {np.round(d[0], 4)})\", end=\" \")\n",
    "print()\n",
    "print(\"retrieved documents (LM): \")\n",
    "for d in retrieved3:\n",
    "    print(f\"(ID: {d[1]}, Score: {np.round(d[0]*10**42, 4)})\", end=\" \")"
   ]
  }
 ],
 "metadata": {
  "kernelspec": {
   "display_name": "Python 3.9.13 64-bit (microsoft store)",
   "language": "python",
   "name": "python3"
  },
  "language_info": {
   "codemirror_mode": {
    "name": "ipython",
    "version": 3
   },
   "file_extension": ".py",
   "mimetype": "text/x-python",
   "name": "python",
   "nbconvert_exporter": "python",
   "pygments_lexer": "ipython3",
   "version": "3.9.13"
  },
  "orig_nbformat": 4,
  "vscode": {
   "interpreter": {
    "hash": "d4e26ec1bab8a1abd2e5a712081492a9566af19802245f28e584dda2f9826c23"
   }
  }
 },
 "nbformat": 4,
 "nbformat_minor": 2
}
